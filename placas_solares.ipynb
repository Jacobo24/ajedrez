{
 "cells": [
  {
   "cell_type": "code",
<<<<<<< HEAD
   "execution_count": 1,
=======
   "execution_count": 95,
>>>>>>> c8c8aa3db8f860825695ebb97a1367d903fc4ccc
   "metadata": {},
   "outputs": [],
   "source": [
    "import pandas as pd\n",
    "import matplotlib.pyplot as plt\n",
    "import numpy as np"
   ]
  },
  {
   "cell_type": "code",
<<<<<<< HEAD
   "execution_count": 2,
=======
   "execution_count": 96,
>>>>>>> c8c8aa3db8f860825695ebb97a1367d903fc4ccc
   "metadata": {},
   "outputs": [],
   "source": [
    "from matplotlib.pyplot import rcParams\n",
    "\n",
    "rcParams['figure.figsize'] = 12, 6\n",
    "rcParams[\"font.weight\"] = \"bold\"\n",
    "rcParams[\"axes.labelweight\"] = \"bold\"\n",
    "rcParams[\"font.size\"] = 10"
   ]
  },
  {
   "cell_type": "code",
<<<<<<< HEAD
   "execution_count": 25,
=======
   "execution_count": 97,
>>>>>>> c8c8aa3db8f860825695ebb97a1367d903fc4ccc
   "metadata": {},
   "outputs": [
    {
     "data": {
      "text/html": [
       "<div>\n",
       "<style scoped>\n",
       "    .dataframe tbody tr th:only-of-type {\n",
       "        vertical-align: middle;\n",
       "    }\n",
       "\n",
       "    .dataframe tbody tr th {\n",
       "        vertical-align: top;\n",
       "    }\n",
       "\n",
       "    .dataframe thead th {\n",
       "        text-align: right;\n",
       "    }\n",
       "</style>\n",
       "<table border=\"1\" class=\"dataframe\">\n",
       "  <thead>\n",
       "    <tr style=\"text-align: right;\">\n",
       "      <th></th>\n",
       "      <th>CENTRO</th>\n",
       "      <th>USO</th>\n",
       "      <th>Coordenada-X</th>\n",
       "      <th>Coordenada-Y</th>\n",
       "      <th>Latitud</th>\n",
       "      <th>Longitud</th>\n",
       "      <th>POTENCIA KWP</th>\n",
       "      <th>AÑO</th>\n",
       "      <th>MES</th>\n",
       "      <th>CÁLCULO</th>\n",
       "      <th>ENERGÍA PRODUCIDA KWh</th>\n",
       "    </tr>\n",
       "  </thead>\n",
       "  <tbody>\n",
       "    <tr>\n",
       "      <th>0</th>\n",
       "      <td>MADRID EMPRENDE</td>\n",
       "      <td>administrativo</td>\n",
       "      <td>436689.0</td>\n",
       "      <td>4468938.0</td>\n",
       "      <td>40.368616</td>\n",
       "      <td>-3.74573026512817</td>\n",
       "      <td>10.0</td>\n",
       "      <td>2019</td>\n",
       "      <td>enero</td>\n",
       "      <td>Estimación</td>\n",
       "      <td>1004.400</td>\n",
       "    </tr>\n",
       "    <tr>\n",
       "      <th>1</th>\n",
       "      <td>MARES MADRID</td>\n",
       "      <td>administrativo</td>\n",
       "      <td>443153.0</td>\n",
       "      <td>4471330.0</td>\n",
       "      <td>40.390628</td>\n",
       "      <td>-3.669802</td>\n",
       "      <td>7.0</td>\n",
       "      <td>2019</td>\n",
       "      <td>enero</td>\n",
       "      <td>Estimación</td>\n",
       "      <td>703.080</td>\n",
       "    </tr>\n",
       "    <tr>\n",
       "      <th>2</th>\n",
       "      <td>NAVE BOETTICHER</td>\n",
       "      <td>administrativo</td>\n",
       "      <td>440849.0</td>\n",
       "      <td>4466524.0</td>\n",
       "      <td>40.347177</td>\n",
       "      <td>-3.696499</td>\n",
       "      <td>5.0</td>\n",
       "      <td>2019</td>\n",
       "      <td>enero</td>\n",
       "      <td>Estimación</td>\n",
       "      <td>502.200</td>\n",
       "    </tr>\n",
       "    <tr>\n",
       "      <th>3</th>\n",
       "      <td>AULA DE LA NATURALEZA DEHESA DE LA VILLA</td>\n",
       "      <td>medioambiental</td>\n",
       "      <td>439102.0</td>\n",
       "      <td>4478967.0</td>\n",
       "      <td>40.459141</td>\n",
       "      <td>-3.718270563679260</td>\n",
       "      <td>2.5</td>\n",
       "      <td>2019</td>\n",
       "      <td>enero</td>\n",
       "      <td>Estimación</td>\n",
       "      <td>251.100</td>\n",
       "    </tr>\n",
       "    <tr>\n",
       "      <th>4</th>\n",
       "      <td>VIVERO MUNICIPAL DE ESTUFAS DEL RETIRO</td>\n",
       "      <td>medioambiental</td>\n",
       "      <td>441779.0</td>\n",
       "      <td>4473428.0</td>\n",
       "      <td>40.409435</td>\n",
       "      <td>-3.6861797800993200</td>\n",
       "      <td>5.0</td>\n",
       "      <td>2019</td>\n",
       "      <td>enero</td>\n",
       "      <td>Estimación</td>\n",
       "      <td>502.200</td>\n",
       "    </tr>\n",
       "    <tr>\n",
       "      <th>...</th>\n",
       "      <td>...</td>\n",
       "      <td>...</td>\n",
       "      <td>...</td>\n",
       "      <td>...</td>\n",
       "      <td>...</td>\n",
       "      <td>...</td>\n",
       "      <td>...</td>\n",
       "      <td>...</td>\n",
       "      <td>...</td>\n",
       "      <td>...</td>\n",
       "      <td>...</td>\n",
       "    </tr>\n",
       "    <tr>\n",
       "      <th>4973</th>\n",
       "      <td>OAIC SACRAMENTO AGENCIA TRIBUTARIA</td>\n",
       "      <td>administrativo</td>\n",
       "      <td>439688.2</td>\n",
       "      <td>4474009.8</td>\n",
       "      <td>40.414526</td>\n",
       "      <td>-3.7108752639004567</td>\n",
       "      <td>8.0</td>\n",
       "      <td>2023</td>\n",
       "      <td>marzo</td>\n",
       "      <td>Estimación</td>\n",
       "      <td>1330.272</td>\n",
       "    </tr>\n",
       "    <tr>\n",
       "      <th>4974</th>\n",
       "      <td>BASE SAMUR 4</td>\n",
       "      <td>sanitario</td>\n",
       "      <td>445135.7</td>\n",
       "      <td>4475423.6</td>\n",
       "      <td>40.427640</td>\n",
       "      <td>-3.6467931482127414</td>\n",
       "      <td>2.0</td>\n",
       "      <td>2023</td>\n",
       "      <td>marzo</td>\n",
       "      <td>Estimación</td>\n",
       "      <td>332.568</td>\n",
       "    </tr>\n",
       "    <tr>\n",
       "      <th>4975</th>\n",
       "      <td>Vivero de la Casa de Campo</td>\n",
       "      <td>medioambiental</td>\n",
       "      <td>438625.6</td>\n",
       "      <td>4474696.0</td>\n",
       "      <td>40.420630</td>\n",
       "      <td>-3.723464689280627</td>\n",
       "      <td>NaN</td>\n",
       "      <td>2023</td>\n",
       "      <td>marzo</td>\n",
       "      <td>Medición</td>\n",
       "      <td>681.000</td>\n",
       "    </tr>\n",
       "    <tr>\n",
       "      <th>4976</th>\n",
       "      <td>CMM SAN DIEGO</td>\n",
       "      <td>social</td>\n",
       "      <td>443704.6</td>\n",
       "      <td>4471139.1</td>\n",
       "      <td>40.388947</td>\n",
       "      <td>-3.6630476297262975</td>\n",
       "      <td>10.0</td>\n",
       "      <td>2023</td>\n",
       "      <td>marzo</td>\n",
       "      <td>Estimación</td>\n",
       "      <td>1662.840</td>\n",
       "    </tr>\n",
       "    <tr>\n",
       "      <th>4977</th>\n",
       "      <td>CSS CENTRO DE DÍA Y ALZHEIMER ENSANCHE DE VALL...</td>\n",
       "      <td>social</td>\n",
       "      <td>449246.7</td>\n",
       "      <td>4468156.3</td>\n",
       "      <td>40.362464</td>\n",
       "      <td>-3.597762173364828</td>\n",
       "      <td>8.0</td>\n",
       "      <td>2023</td>\n",
       "      <td>marzo</td>\n",
       "      <td>Estimación</td>\n",
       "      <td>1330.272</td>\n",
       "    </tr>\n",
       "  </tbody>\n",
       "</table>\n",
       "<p>4978 rows × 11 columns</p>\n",
       "</div>"
      ],
      "text/plain": [
       "                                                 CENTRO             USO   \n",
       "0                                       MADRID EMPRENDE  administrativo  \\\n",
       "1                                          MARES MADRID  administrativo   \n",
       "2                                       NAVE BOETTICHER  administrativo   \n",
       "3              AULA DE LA NATURALEZA DEHESA DE LA VILLA  medioambiental   \n",
       "4                VIVERO MUNICIPAL DE ESTUFAS DEL RETIRO  medioambiental   \n",
       "...                                                 ...             ...   \n",
       "4973                 OAIC SACRAMENTO AGENCIA TRIBUTARIA  administrativo   \n",
       "4974                                       BASE SAMUR 4       sanitario   \n",
       "4975                         Vivero de la Casa de Campo  medioambiental   \n",
       "4976                                      CMM SAN DIEGO          social   \n",
       "4977  CSS CENTRO DE DÍA Y ALZHEIMER ENSANCHE DE VALL...          social   \n",
       "\n",
       "      Coordenada-X  Coordenada-Y    Latitud             Longitud   \n",
       "0         436689.0     4468938.0  40.368616    -3.74573026512817  \\\n",
       "1         443153.0     4471330.0  40.390628            -3.669802   \n",
       "2         440849.0     4466524.0  40.347177            -3.696499   \n",
       "3         439102.0     4478967.0  40.459141   -3.718270563679260   \n",
       "4         441779.0     4473428.0  40.409435  -3.6861797800993200   \n",
       "...            ...           ...        ...                  ...   \n",
       "4973      439688.2     4474009.8  40.414526  -3.7108752639004567   \n",
       "4974      445135.7     4475423.6  40.427640  -3.6467931482127414   \n",
       "4975      438625.6     4474696.0  40.420630   -3.723464689280627   \n",
       "4976      443704.6     4471139.1  40.388947  -3.6630476297262975   \n",
       "4977      449246.7     4468156.3  40.362464   -3.597762173364828   \n",
       "\n",
       "      POTENCIA KWP   AÑO    MES     CÁLCULO  ENERGÍA PRODUCIDA KWh  \n",
       "0             10.0  2019  enero  Estimación               1004.400  \n",
       "1              7.0  2019  enero  Estimación                703.080  \n",
       "2              5.0  2019  enero  Estimación                502.200  \n",
       "3              2.5  2019  enero  Estimación                251.100  \n",
       "4              5.0  2019  enero  Estimación                502.200  \n",
       "...            ...   ...    ...         ...                    ...  \n",
       "4973           8.0  2023  marzo  Estimación               1330.272  \n",
       "4974           2.0  2023  marzo  Estimación                332.568  \n",
       "4975           NaN  2023  marzo    Medición                681.000  \n",
       "4976          10.0  2023  marzo  Estimación               1662.840  \n",
       "4977           8.0  2023  marzo  Estimación               1330.272  \n",
       "\n",
       "[4978 rows x 11 columns]"
      ]
     },
<<<<<<< HEAD
     "execution_count": 25,
=======
     "execution_count": 97,
>>>>>>> c8c8aa3db8f860825695ebb97a1367d903fc4ccc
     "metadata": {},
     "output_type": "execute_result"
    }
   ],
   "source": [
    "df_placas = pd.read_excel('placas_solares.xlsx')\n",
    "\n",
    "df_placas"
   ]
  },
  {
   "cell_type": "code",
<<<<<<< HEAD
   "execution_count": 26,
=======
   "execution_count": 98,
>>>>>>> c8c8aa3db8f860825695ebb97a1367d903fc4ccc
   "metadata": {},
   "outputs": [
    {
     "data": {
      "text/plain": [
       "CENTRO                   2\n",
       "USO                      2\n",
       "Coordenada-X             2\n",
       "Coordenada-Y             2\n",
       "Latitud                  2\n",
       "Longitud                 2\n",
       "POTENCIA KWP             3\n",
       "AÑO                      0\n",
       "MES                      0\n",
       "CÁLCULO                  0\n",
       "ENERGÍA PRODUCIDA KWh    0\n",
       "dtype: int64"
      ]
     },
<<<<<<< HEAD
     "execution_count": 26,
=======
     "execution_count": 98,
>>>>>>> c8c8aa3db8f860825695ebb97a1367d903fc4ccc
     "metadata": {},
     "output_type": "execute_result"
    }
   ],
   "source": [
    "df_placas.isna().sum()"
   ]
  },
  {
   "cell_type": "code",
<<<<<<< HEAD
   "execution_count": 27,
=======
   "execution_count": 99,
>>>>>>> c8c8aa3db8f860825695ebb97a1367d903fc4ccc
   "metadata": {},
   "outputs": [
    {
     "name": "stdout",
     "output_type": "stream",
     "text": [
      "<class 'pandas.core.frame.DataFrame'>\n",
      "RangeIndex: 4978 entries, 0 to 4977\n",
      "Data columns (total 11 columns):\n",
      " #   Column                 Non-Null Count  Dtype  \n",
      "---  ------                 --------------  -----  \n",
      " 0   CENTRO                 4976 non-null   object \n",
      " 1   USO                    4976 non-null   object \n",
      " 2   Coordenada-X           4976 non-null   float64\n",
      " 3   Coordenada-Y           4976 non-null   float64\n",
      " 4   Latitud                4976 non-null   float64\n",
      " 5   Longitud               4976 non-null   object \n",
      " 6   POTENCIA KWP           4975 non-null   float64\n",
      " 7   AÑO                    4978 non-null   int64  \n",
      " 8   MES                    4978 non-null   object \n",
      " 9   CÁLCULO                4978 non-null   object \n",
      " 10  ENERGÍA PRODUCIDA KWh  4978 non-null   float64\n",
      "dtypes: float64(5), int64(1), object(5)\n",
      "memory usage: 427.9+ KB\n"
     ]
    }
   ],
   "source": [
    "df_placas.info()"
   ]
  },
  {
   "cell_type": "code",
<<<<<<< HEAD
   "execution_count": 30,
=======
   "execution_count": 100,
>>>>>>> c8c8aa3db8f860825695ebb97a1367d903fc4ccc
   "metadata": {},
   "outputs": [
    {
     "data": {
      "text/plain": [
       "0       False\n",
       "1       False\n",
       "2       False\n",
       "3       False\n",
       "4       False\n",
       "        ...  \n",
       "4973    False\n",
       "4974    False\n",
       "4975    False\n",
       "4976    False\n",
       "4977    False\n",
       "Name: MES, Length: 4978, dtype: bool"
      ]
     },
<<<<<<< HEAD
     "execution_count": 30,
=======
     "execution_count": 100,
>>>>>>> c8c8aa3db8f860825695ebb97a1367d903fc4ccc
     "metadata": {},
     "output_type": "execute_result"
    }
   ],
   "source": [
    "df_placas[\"MES\"].isna()"
   ]
  },
  {
   "cell_type": "code",
<<<<<<< HEAD
   "execution_count": 31,
=======
   "execution_count": 101,
>>>>>>> c8c8aa3db8f860825695ebb97a1367d903fc4ccc
   "metadata": {},
   "outputs": [
    {
     "data": {
      "text/plain": [
       "0"
      ]
     },
<<<<<<< HEAD
     "execution_count": 31,
=======
     "execution_count": 101,
>>>>>>> c8c8aa3db8f860825695ebb97a1367d903fc4ccc
     "metadata": {},
     "output_type": "execute_result"
    }
   ],
   "source": [
    "df_placas[\"MES\"].isna().sum()"
   ]
  },
  {
   "cell_type": "code",
<<<<<<< HEAD
   "execution_count": 33,
=======
   "execution_count": 102,
>>>>>>> c8c8aa3db8f860825695ebb97a1367d903fc4ccc
   "metadata": {},
   "outputs": [
    {
     "data": {
      "text/plain": [
       "Series([], Name: MES, dtype: object)"
      ]
     },
<<<<<<< HEAD
     "execution_count": 33,
=======
     "execution_count": 102,
>>>>>>> c8c8aa3db8f860825695ebb97a1367d903fc4ccc
     "metadata": {},
     "output_type": "execute_result"
    }
   ],
   "source": [
    "df_placas[\"MES\"][df_placas[\"MES\"].isna()]"
   ]
  },
  {
   "cell_type": "code",
<<<<<<< HEAD
   "execution_count": 34,
=======
   "execution_count": 103,
>>>>>>> c8c8aa3db8f860825695ebb97a1367d903fc4ccc
   "metadata": {},
   "outputs": [
    {
     "data": {
      "text/html": [
       "<div>\n",
       "<style scoped>\n",
       "    .dataframe tbody tr th:only-of-type {\n",
       "        vertical-align: middle;\n",
       "    }\n",
       "\n",
       "    .dataframe tbody tr th {\n",
       "        vertical-align: top;\n",
       "    }\n",
       "\n",
       "    .dataframe thead th {\n",
       "        text-align: right;\n",
       "    }\n",
       "</style>\n",
       "<table border=\"1\" class=\"dataframe\">\n",
       "  <thead>\n",
       "    <tr style=\"text-align: right;\">\n",
       "      <th></th>\n",
       "      <th>MES</th>\n",
       "      <th>AÑO</th>\n",
       "      <th>ENERGÍA PRODUCIDA KWh</th>\n",
       "    </tr>\n",
       "  </thead>\n",
       "  <tbody>\n",
       "    <tr>\n",
       "      <th>4</th>\n",
       "      <td>enero</td>\n",
       "      <td>2019</td>\n",
       "      <td>502.2000</td>\n",
       "    </tr>\n",
       "    <tr>\n",
       "      <th>5</th>\n",
       "      <td>enero</td>\n",
       "      <td>2019</td>\n",
       "      <td>502.2000</td>\n",
       "    </tr>\n",
       "    <tr>\n",
       "      <th>6</th>\n",
       "      <td>enero</td>\n",
       "      <td>2019</td>\n",
       "      <td>502.2000</td>\n",
       "    </tr>\n",
       "    <tr>\n",
       "      <th>7</th>\n",
       "      <td>enero</td>\n",
       "      <td>2019</td>\n",
       "      <td>2008.8000</td>\n",
       "    </tr>\n",
       "    <tr>\n",
       "      <th>8</th>\n",
       "      <td>enero</td>\n",
       "      <td>2019</td>\n",
       "      <td>602.6400</td>\n",
       "    </tr>\n",
       "    <tr>\n",
       "      <th>...</th>\n",
       "      <td>...</td>\n",
       "      <td>...</td>\n",
       "      <td>...</td>\n",
       "    </tr>\n",
       "    <tr>\n",
       "      <th>3295</th>\n",
       "      <td>enero</td>\n",
       "      <td>2022</td>\n",
       "      <td>2008.8000</td>\n",
       "    </tr>\n",
       "    <tr>\n",
       "      <th>3296</th>\n",
       "      <td>enero</td>\n",
       "      <td>2022</td>\n",
       "      <td>602.6400</td>\n",
       "    </tr>\n",
       "    <tr>\n",
       "      <th>3297</th>\n",
       "      <td>enero</td>\n",
       "      <td>2022</td>\n",
       "      <td>992.3472</td>\n",
       "    </tr>\n",
       "    <tr>\n",
       "      <th>3298</th>\n",
       "      <td>enero</td>\n",
       "      <td>2022</td>\n",
       "      <td>502.2000</td>\n",
       "    </tr>\n",
       "    <tr>\n",
       "      <th>3299</th>\n",
       "      <td>enero</td>\n",
       "      <td>2022</td>\n",
       "      <td>3515.4000</td>\n",
       "    </tr>\n",
       "  </tbody>\n",
       "</table>\n",
       "<p>3296 rows × 3 columns</p>\n",
       "</div>"
      ],
      "text/plain": [
       "        MES   AÑO  ENERGÍA PRODUCIDA KWh\n",
       "4     enero  2019               502.2000\n",
       "5     enero  2019               502.2000\n",
       "6     enero  2019               502.2000\n",
       "7     enero  2019              2008.8000\n",
       "8     enero  2019               602.6400\n",
       "...     ...   ...                    ...\n",
       "3295  enero  2022              2008.8000\n",
       "3296  enero  2022               602.6400\n",
       "3297  enero  2022               992.3472\n",
       "3298  enero  2022               502.2000\n",
       "3299  enero  2022              3515.4000\n",
       "\n",
       "[3296 rows x 3 columns]"
      ]
     },
<<<<<<< HEAD
     "execution_count": 34,
=======
     "execution_count": 103,
>>>>>>> c8c8aa3db8f860825695ebb97a1367d903fc4ccc
     "metadata": {},
     "output_type": "execute_result"
    }
   ],
   "source": [
    "df_placas[4:3300][[\"MES\", \"AÑO\", \"ENERGÍA PRODUCIDA KWh\"]]"
   ]
  },
  {
   "cell_type": "code",
<<<<<<< HEAD
   "execution_count": 35,
=======
   "execution_count": 104,
>>>>>>> c8c8aa3db8f860825695ebb97a1367d903fc4ccc
   "metadata": {},
   "outputs": [
    {
     "data": {
      "text/html": [
       "<div>\n",
       "<style scoped>\n",
       "    .dataframe tbody tr th:only-of-type {\n",
       "        vertical-align: middle;\n",
       "    }\n",
       "\n",
       "    .dataframe tbody tr th {\n",
       "        vertical-align: top;\n",
       "    }\n",
       "\n",
       "    .dataframe thead th {\n",
       "        text-align: right;\n",
       "    }\n",
       "</style>\n",
       "<table border=\"1\" class=\"dataframe\">\n",
       "  <thead>\n",
       "    <tr style=\"text-align: right;\">\n",
       "      <th></th>\n",
       "      <th>CENTRO</th>\n",
       "      <th>USO</th>\n",
       "      <th>Coordenada-X</th>\n",
       "      <th>Coordenada-Y</th>\n",
       "      <th>Latitud</th>\n",
       "      <th>Longitud</th>\n",
       "      <th>POTENCIA KWP</th>\n",
       "      <th>AÑO</th>\n",
       "      <th>MES</th>\n",
       "      <th>CÁLCULO</th>\n",
       "      <th>ENERGÍA PRODUCIDA KWh</th>\n",
       "    </tr>\n",
       "  </thead>\n",
       "  <tbody>\n",
       "    <tr>\n",
       "      <th>3076</th>\n",
       "      <td>NaN</td>\n",
       "      <td>NaN</td>\n",
       "      <td>NaN</td>\n",
       "      <td>NaN</td>\n",
       "      <td>NaN</td>\n",
       "      <td>NaN</td>\n",
       "      <td>7.0</td>\n",
       "      <td>2021</td>\n",
       "      <td>noviembre</td>\n",
       "      <td>Estimación</td>\n",
       "      <td>748.440</td>\n",
       "    </tr>\n",
       "    <tr>\n",
       "      <th>3182</th>\n",
       "      <td>NaN</td>\n",
       "      <td>NaN</td>\n",
       "      <td>NaN</td>\n",
       "      <td>NaN</td>\n",
       "      <td>NaN</td>\n",
       "      <td>NaN</td>\n",
       "      <td>7.0</td>\n",
       "      <td>2021</td>\n",
       "      <td>diciembre</td>\n",
       "      <td>Estimación</td>\n",
       "      <td>679.644</td>\n",
       "    </tr>\n",
       "    <tr>\n",
       "      <th>4727</th>\n",
       "      <td>Vivero de la Casa de Campo</td>\n",
       "      <td>medioambiental</td>\n",
       "      <td>438625.6</td>\n",
       "      <td>4474696.0</td>\n",
       "      <td>40.42063</td>\n",
       "      <td>-3.723464689280627</td>\n",
       "      <td>NaN</td>\n",
       "      <td>2023</td>\n",
       "      <td>enero</td>\n",
       "      <td>Medición</td>\n",
       "      <td>345.000</td>\n",
       "    </tr>\n",
       "    <tr>\n",
       "      <th>4850</th>\n",
       "      <td>Vivero de la Casa de Campo</td>\n",
       "      <td>medioambiental</td>\n",
       "      <td>438625.6</td>\n",
       "      <td>4474696.0</td>\n",
       "      <td>40.42063</td>\n",
       "      <td>-3.723464689280627</td>\n",
       "      <td>NaN</td>\n",
       "      <td>2023</td>\n",
       "      <td>febrero</td>\n",
       "      <td>Medición</td>\n",
       "      <td>448.000</td>\n",
       "    </tr>\n",
       "    <tr>\n",
       "      <th>4975</th>\n",
       "      <td>Vivero de la Casa de Campo</td>\n",
       "      <td>medioambiental</td>\n",
       "      <td>438625.6</td>\n",
       "      <td>4474696.0</td>\n",
       "      <td>40.42063</td>\n",
       "      <td>-3.723464689280627</td>\n",
       "      <td>NaN</td>\n",
       "      <td>2023</td>\n",
       "      <td>marzo</td>\n",
       "      <td>Medición</td>\n",
       "      <td>681.000</td>\n",
       "    </tr>\n",
       "  </tbody>\n",
       "</table>\n",
       "</div>"
      ],
      "text/plain": [
       "                          CENTRO             USO  Coordenada-X  Coordenada-Y   \n",
       "3076                         NaN             NaN           NaN           NaN  \\\n",
       "3182                         NaN             NaN           NaN           NaN   \n",
       "4727  Vivero de la Casa de Campo  medioambiental      438625.6     4474696.0   \n",
       "4850  Vivero de la Casa de Campo  medioambiental      438625.6     4474696.0   \n",
       "4975  Vivero de la Casa de Campo  medioambiental      438625.6     4474696.0   \n",
       "\n",
       "       Latitud            Longitud  POTENCIA KWP   AÑO        MES     CÁLCULO   \n",
       "3076       NaN                 NaN           7.0  2021  noviembre  Estimación  \\\n",
       "3182       NaN                 NaN           7.0  2021  diciembre  Estimación   \n",
       "4727  40.42063  -3.723464689280627           NaN  2023      enero    Medición   \n",
       "4850  40.42063  -3.723464689280627           NaN  2023    febrero    Medición   \n",
       "4975  40.42063  -3.723464689280627           NaN  2023      marzo    Medición   \n",
       "\n",
       "      ENERGÍA PRODUCIDA KWh  \n",
       "3076                748.440  \n",
       "3182                679.644  \n",
       "4727                345.000  \n",
       "4850                448.000  \n",
       "4975                681.000  "
      ]
     },
<<<<<<< HEAD
     "execution_count": 35,
=======
     "execution_count": 104,
>>>>>>> c8c8aa3db8f860825695ebb97a1367d903fc4ccc
     "metadata": {},
     "output_type": "execute_result"
    }
   ],
   "source": [
    "df_placas.drop(df_placas.dropna().index)"
   ]
  },
  {
   "cell_type": "code",
<<<<<<< HEAD
   "execution_count": 36,
=======
   "execution_count": 105,
>>>>>>> c8c8aa3db8f860825695ebb97a1367d903fc4ccc
   "metadata": {},
   "outputs": [
    {
     "data": {
      "text/plain": [
       "4973"
      ]
     },
<<<<<<< HEAD
     "execution_count": 36,
=======
     "execution_count": 105,
>>>>>>> c8c8aa3db8f860825695ebb97a1367d903fc4ccc
     "metadata": {},
     "output_type": "execute_result"
    }
   ],
   "source": [
    "# No hay nada que limpiar\n",
    "df_placas.shape[0] - 5"
   ]
  },
  {
   "cell_type": "code",
<<<<<<< HEAD
   "execution_count": 37,
=======
   "execution_count": 106,
>>>>>>> c8c8aa3db8f860825695ebb97a1367d903fc4ccc
   "metadata": {},
   "outputs": [
    {
     "data": {
      "text/html": [
       "<div>\n",
       "<style scoped>\n",
       "    .dataframe tbody tr th:only-of-type {\n",
       "        vertical-align: middle;\n",
       "    }\n",
       "\n",
       "    .dataframe tbody tr th {\n",
       "        vertical-align: top;\n",
       "    }\n",
       "\n",
       "    .dataframe thead th {\n",
       "        text-align: right;\n",
       "    }\n",
       "</style>\n",
       "<table border=\"1\" class=\"dataframe\">\n",
       "  <thead>\n",
       "    <tr style=\"text-align: right;\">\n",
       "      <th></th>\n",
       "      <th>CENTRO</th>\n",
       "      <th>USO</th>\n",
       "      <th>Coordenada-X</th>\n",
       "      <th>Coordenada-Y</th>\n",
       "      <th>Latitud</th>\n",
       "      <th>Longitud</th>\n",
       "      <th>POTENCIA KWP</th>\n",
       "      <th>AÑO</th>\n",
       "      <th>MES</th>\n",
       "      <th>CÁLCULO</th>\n",
       "      <th>ENERGÍA PRODUCIDA KWh</th>\n",
       "    </tr>\n",
       "  </thead>\n",
       "  <tbody>\n",
       "    <tr>\n",
       "      <th>0</th>\n",
       "      <td>MADRID EMPRENDE</td>\n",
       "      <td>administrativo</td>\n",
       "      <td>436689.0</td>\n",
       "      <td>4468938.0</td>\n",
       "      <td>40.368616</td>\n",
       "      <td>-3.74573026512817</td>\n",
       "      <td>10.0</td>\n",
       "      <td>2019</td>\n",
       "      <td>enero</td>\n",
       "      <td>Estimación</td>\n",
       "      <td>1004.400000</td>\n",
       "    </tr>\n",
       "    <tr>\n",
       "      <th>1</th>\n",
       "      <td>MARES MADRID</td>\n",
       "      <td>administrativo</td>\n",
       "      <td>443153.0</td>\n",
       "      <td>4471330.0</td>\n",
       "      <td>40.390628</td>\n",
       "      <td>-3.669802</td>\n",
       "      <td>7.0</td>\n",
       "      <td>2019</td>\n",
       "      <td>enero</td>\n",
       "      <td>Estimación</td>\n",
       "      <td>703.080000</td>\n",
       "    </tr>\n",
       "    <tr>\n",
       "      <th>2</th>\n",
       "      <td>NAVE BOETTICHER</td>\n",
       "      <td>administrativo</td>\n",
       "      <td>440849.0</td>\n",
       "      <td>4466524.0</td>\n",
       "      <td>40.347177</td>\n",
       "      <td>-3.696499</td>\n",
       "      <td>5.0</td>\n",
       "      <td>2019</td>\n",
       "      <td>enero</td>\n",
       "      <td>Estimación</td>\n",
       "      <td>502.200000</td>\n",
       "    </tr>\n",
       "    <tr>\n",
       "      <th>3</th>\n",
       "      <td>AULA DE LA NATURALEZA DEHESA DE LA VILLA</td>\n",
       "      <td>medioambiental</td>\n",
       "      <td>439102.0</td>\n",
       "      <td>4478967.0</td>\n",
       "      <td>40.459141</td>\n",
       "      <td>-3.718270563679260</td>\n",
       "      <td>2.5</td>\n",
       "      <td>2019</td>\n",
       "      <td>enero</td>\n",
       "      <td>Estimación</td>\n",
       "      <td>251.100000</td>\n",
       "    </tr>\n",
       "    <tr>\n",
       "      <th>4</th>\n",
       "      <td>VIVERO MUNICIPAL DE ESTUFAS DEL RETIRO</td>\n",
       "      <td>medioambiental</td>\n",
       "      <td>441779.0</td>\n",
       "      <td>4473428.0</td>\n",
       "      <td>40.409435</td>\n",
       "      <td>-3.6861797800993200</td>\n",
       "      <td>5.0</td>\n",
       "      <td>2019</td>\n",
       "      <td>enero</td>\n",
       "      <td>Estimación</td>\n",
       "      <td>502.200000</td>\n",
       "    </tr>\n",
       "    <tr>\n",
       "      <th>...</th>\n",
       "      <td>...</td>\n",
       "      <td>...</td>\n",
       "      <td>...</td>\n",
       "      <td>...</td>\n",
       "      <td>...</td>\n",
       "      <td>...</td>\n",
       "      <td>...</td>\n",
       "      <td>...</td>\n",
       "      <td>...</td>\n",
       "      <td>...</td>\n",
       "      <td>...</td>\n",
       "    </tr>\n",
       "    <tr>\n",
       "      <th>4968</th>\n",
       "      <td>CDM HORTALEZA</td>\n",
       "      <td>deportivo</td>\n",
       "      <td>444781.7</td>\n",
       "      <td>4481144.5</td>\n",
       "      <td>40.479153</td>\n",
       "      <td>-3.6514634536929598</td>\n",
       "      <td>99.4</td>\n",
       "      <td>2023</td>\n",
       "      <td>marzo</td>\n",
       "      <td>Medición</td>\n",
       "      <td>11249.600586</td>\n",
       "    </tr>\n",
       "    <tr>\n",
       "      <th>4969</th>\n",
       "      <td>OAIC SACRAMENTO AGENCIA TRIBUTARIA</td>\n",
       "      <td>administrativo</td>\n",
       "      <td>439688.2</td>\n",
       "      <td>4474009.8</td>\n",
       "      <td>40.414526</td>\n",
       "      <td>-3.7108752639004567</td>\n",
       "      <td>8.0</td>\n",
       "      <td>2023</td>\n",
       "      <td>marzo</td>\n",
       "      <td>Estimación</td>\n",
       "      <td>1330.272000</td>\n",
       "    </tr>\n",
       "    <tr>\n",
       "      <th>4970</th>\n",
       "      <td>BASE SAMUR 4</td>\n",
       "      <td>sanitario</td>\n",
       "      <td>445135.7</td>\n",
       "      <td>4475423.6</td>\n",
       "      <td>40.427640</td>\n",
       "      <td>-3.6467931482127414</td>\n",
       "      <td>2.0</td>\n",
       "      <td>2023</td>\n",
       "      <td>marzo</td>\n",
       "      <td>Estimación</td>\n",
       "      <td>332.568000</td>\n",
       "    </tr>\n",
       "    <tr>\n",
       "      <th>4971</th>\n",
       "      <td>CMM SAN DIEGO</td>\n",
       "      <td>social</td>\n",
       "      <td>443704.6</td>\n",
       "      <td>4471139.1</td>\n",
       "      <td>40.388947</td>\n",
       "      <td>-3.6630476297262975</td>\n",
       "      <td>10.0</td>\n",
       "      <td>2023</td>\n",
       "      <td>marzo</td>\n",
       "      <td>Estimación</td>\n",
       "      <td>1662.840000</td>\n",
       "    </tr>\n",
       "    <tr>\n",
       "      <th>4972</th>\n",
       "      <td>CSS CENTRO DE DÍA Y ALZHEIMER ENSANCHE DE VALL...</td>\n",
       "      <td>social</td>\n",
       "      <td>449246.7</td>\n",
       "      <td>4468156.3</td>\n",
       "      <td>40.362464</td>\n",
       "      <td>-3.597762173364828</td>\n",
       "      <td>8.0</td>\n",
       "      <td>2023</td>\n",
       "      <td>marzo</td>\n",
       "      <td>Estimación</td>\n",
       "      <td>1330.272000</td>\n",
       "    </tr>\n",
       "  </tbody>\n",
       "</table>\n",
       "<p>4973 rows × 11 columns</p>\n",
       "</div>"
      ],
      "text/plain": [
       "                                                 CENTRO             USO   \n",
       "0                                       MADRID EMPRENDE  administrativo  \\\n",
       "1                                          MARES MADRID  administrativo   \n",
       "2                                       NAVE BOETTICHER  administrativo   \n",
       "3              AULA DE LA NATURALEZA DEHESA DE LA VILLA  medioambiental   \n",
       "4                VIVERO MUNICIPAL DE ESTUFAS DEL RETIRO  medioambiental   \n",
       "...                                                 ...             ...   \n",
       "4968                                      CDM HORTALEZA       deportivo   \n",
       "4969                 OAIC SACRAMENTO AGENCIA TRIBUTARIA  administrativo   \n",
       "4970                                       BASE SAMUR 4       sanitario   \n",
       "4971                                      CMM SAN DIEGO          social   \n",
       "4972  CSS CENTRO DE DÍA Y ALZHEIMER ENSANCHE DE VALL...          social   \n",
       "\n",
       "      Coordenada-X  Coordenada-Y    Latitud             Longitud   \n",
       "0         436689.0     4468938.0  40.368616    -3.74573026512817  \\\n",
       "1         443153.0     4471330.0  40.390628            -3.669802   \n",
       "2         440849.0     4466524.0  40.347177            -3.696499   \n",
       "3         439102.0     4478967.0  40.459141   -3.718270563679260   \n",
       "4         441779.0     4473428.0  40.409435  -3.6861797800993200   \n",
       "...            ...           ...        ...                  ...   \n",
       "4968      444781.7     4481144.5  40.479153  -3.6514634536929598   \n",
       "4969      439688.2     4474009.8  40.414526  -3.7108752639004567   \n",
       "4970      445135.7     4475423.6  40.427640  -3.6467931482127414   \n",
       "4971      443704.6     4471139.1  40.388947  -3.6630476297262975   \n",
       "4972      449246.7     4468156.3  40.362464   -3.597762173364828   \n",
       "\n",
       "      POTENCIA KWP   AÑO    MES     CÁLCULO  ENERGÍA PRODUCIDA KWh  \n",
       "0             10.0  2019  enero  Estimación            1004.400000  \n",
       "1              7.0  2019  enero  Estimación             703.080000  \n",
       "2              5.0  2019  enero  Estimación             502.200000  \n",
       "3              2.5  2019  enero  Estimación             251.100000  \n",
       "4              5.0  2019  enero  Estimación             502.200000  \n",
       "...            ...   ...    ...         ...                    ...  \n",
       "4968          99.4  2023  marzo    Medición           11249.600586  \n",
       "4969           8.0  2023  marzo  Estimación            1330.272000  \n",
       "4970           2.0  2023  marzo  Estimación             332.568000  \n",
       "4971          10.0  2023  marzo  Estimación            1662.840000  \n",
       "4972           8.0  2023  marzo  Estimación            1330.272000  \n",
       "\n",
       "[4973 rows x 11 columns]"
      ]
     },
<<<<<<< HEAD
     "execution_count": 37,
=======
     "execution_count": 106,
>>>>>>> c8c8aa3db8f860825695ebb97a1367d903fc4ccc
     "metadata": {},
     "output_type": "execute_result"
    }
   ],
   "source": [
    "df_solar_filt = df_placas.dropna().reset_index(drop=True)\n",
    "df_solar_filt"
   ]
  },
  {
   "attachments": {},
   "cell_type": "markdown",
   "metadata": {},
   "source": [
    "### Análisis exploratorio, tratamiento y limpieza de datos\n"
   ]
  },
  {
   "cell_type": "code",
<<<<<<< HEAD
   "execution_count": 38,
=======
   "execution_count": 107,
>>>>>>> c8c8aa3db8f860825695ebb97a1367d903fc4ccc
   "metadata": {},
   "outputs": [
    {
     "data": {
      "text/html": [
       "<div>\n",
       "<style scoped>\n",
       "    .dataframe tbody tr th:only-of-type {\n",
       "        vertical-align: middle;\n",
       "    }\n",
       "\n",
       "    .dataframe tbody tr th {\n",
       "        vertical-align: top;\n",
       "    }\n",
       "\n",
       "    .dataframe thead th {\n",
       "        text-align: right;\n",
       "    }\n",
       "</style>\n",
       "<table border=\"1\" class=\"dataframe\">\n",
       "  <thead>\n",
       "    <tr style=\"text-align: right;\">\n",
       "      <th></th>\n",
       "      <th>Coordenada-X</th>\n",
       "      <th>Coordenada-Y</th>\n",
       "      <th>Latitud</th>\n",
       "      <th>POTENCIA KWP</th>\n",
       "      <th>AÑO</th>\n",
       "      <th>ENERGÍA PRODUCIDA KWh</th>\n",
       "    </tr>\n",
       "  </thead>\n",
       "  <tbody>\n",
       "    <tr>\n",
       "      <th>count</th>\n",
       "      <td>4973.000000</td>\n",
       "      <td>4.973000e+03</td>\n",
       "      <td>4973.000000</td>\n",
       "      <td>4973.000000</td>\n",
       "      <td>4973.000000</td>\n",
       "      <td>4973.000000</td>\n",
       "    </tr>\n",
       "    <tr>\n",
       "      <th>mean</th>\n",
       "      <td>442377.760728</td>\n",
       "      <td>4.473926e+06</td>\n",
       "      <td>40.413793</td>\n",
       "      <td>16.769704</td>\n",
       "      <td>2020.822441</td>\n",
       "      <td>2289.675351</td>\n",
       "    </tr>\n",
       "    <tr>\n",
       "      <th>std</th>\n",
       "      <td>4044.214816</td>\n",
       "      <td>4.593500e+03</td>\n",
       "      <td>0.041492</td>\n",
       "      <td>16.313828</td>\n",
       "      <td>1.221144</td>\n",
       "      <td>2417.932513</td>\n",
       "    </tr>\n",
       "    <tr>\n",
       "      <th>min</th>\n",
       "      <td>433934.000000</td>\n",
       "      <td>4.465148e+06</td>\n",
       "      <td>40.334752</td>\n",
       "      <td>2.000000</td>\n",
       "      <td>2019.000000</td>\n",
       "      <td>-13.200000</td>\n",
       "    </tr>\n",
       "    <tr>\n",
       "      <th>25%</th>\n",
       "      <td>439603.000000</td>\n",
       "      <td>4.470233e+06</td>\n",
       "      <td>40.380148</td>\n",
       "      <td>7.000000</td>\n",
       "      <td>2020.000000</td>\n",
       "      <td>885.600000</td>\n",
       "    </tr>\n",
       "    <tr>\n",
       "      <th>50%</th>\n",
       "      <td>442243.000000</td>\n",
       "      <td>4.473366e+06</td>\n",
       "      <td>40.409341</td>\n",
       "      <td>12.000000</td>\n",
       "      <td>2021.000000</td>\n",
       "      <td>1506.111750</td>\n",
       "    </tr>\n",
       "    <tr>\n",
       "      <th>75%</th>\n",
       "      <td>445584.000000</td>\n",
       "      <td>4.476508e+06</td>\n",
       "      <td>40.436863</td>\n",
       "      <td>20.000000</td>\n",
       "      <td>2022.000000</td>\n",
       "      <td>2855.250000</td>\n",
       "    </tr>\n",
       "    <tr>\n",
       "      <th>max</th>\n",
       "      <td>451431.000000</td>\n",
       "      <td>4.484225e+06</td>\n",
       "      <td>40.506657</td>\n",
       "      <td>100.000000</td>\n",
       "      <td>2023.000000</td>\n",
       "      <td>23800.000000</td>\n",
       "    </tr>\n",
       "  </tbody>\n",
       "</table>\n",
       "</div>"
      ],
      "text/plain": [
       "        Coordenada-X  Coordenada-Y      Latitud  POTENCIA KWP          AÑO   \n",
       "count    4973.000000  4.973000e+03  4973.000000   4973.000000  4973.000000  \\\n",
       "mean   442377.760728  4.473926e+06    40.413793     16.769704  2020.822441   \n",
       "std      4044.214816  4.593500e+03     0.041492     16.313828     1.221144   \n",
       "min    433934.000000  4.465148e+06    40.334752      2.000000  2019.000000   \n",
       "25%    439603.000000  4.470233e+06    40.380148      7.000000  2020.000000   \n",
       "50%    442243.000000  4.473366e+06    40.409341     12.000000  2021.000000   \n",
       "75%    445584.000000  4.476508e+06    40.436863     20.000000  2022.000000   \n",
       "max    451431.000000  4.484225e+06    40.506657    100.000000  2023.000000   \n",
       "\n",
       "       ENERGÍA PRODUCIDA KWh  \n",
       "count            4973.000000  \n",
       "mean             2289.675351  \n",
       "std              2417.932513  \n",
       "min               -13.200000  \n",
       "25%               885.600000  \n",
       "50%              1506.111750  \n",
       "75%              2855.250000  \n",
       "max             23800.000000  "
      ]
     },
<<<<<<< HEAD
     "execution_count": 38,
=======
     "execution_count": 107,
>>>>>>> c8c8aa3db8f860825695ebb97a1367d903fc4ccc
     "metadata": {},
     "output_type": "execute_result"
    }
   ],
   "source": [
    "df_solar_filt.describe()"
   ]
  },
  {
   "cell_type": "code",
<<<<<<< HEAD
   "execution_count": 39,
=======
   "execution_count": 108,
>>>>>>> c8c8aa3db8f860825695ebb97a1367d903fc4ccc
   "metadata": {},
   "outputs": [
    {
     "data": {
      "text/plain": [
       "CENTRO                    object\n",
       "USO                       object\n",
       "Coordenada-X             float64\n",
       "Coordenada-Y             float64\n",
       "Latitud                  float64\n",
       "Longitud                  object\n",
       "POTENCIA KWP             float64\n",
       "AÑO                        int64\n",
       "MES                       object\n",
       "CÁLCULO                   object\n",
       "ENERGÍA PRODUCIDA KWh    float64\n",
       "dtype: object"
      ]
     },
<<<<<<< HEAD
     "execution_count": 39,
=======
     "execution_count": 108,
>>>>>>> c8c8aa3db8f860825695ebb97a1367d903fc4ccc
     "metadata": {},
     "output_type": "execute_result"
    }
   ],
   "source": [
    "# consultar el tipo de datos\n",
    "df_solar_filt.dtypes"
   ]
  },
  {
   "cell_type": "code",
<<<<<<< HEAD
   "execution_count": 40,
=======
   "execution_count": 109,
>>>>>>> c8c8aa3db8f860825695ebb97a1367d903fc4ccc
   "metadata": {},
   "outputs": [
    {
     "data": {
      "text/plain": [
       "CENTRO      object\n",
       "USO         object\n",
       "Longitud    object\n",
       "MES         object\n",
       "CÁLCULO     object\n",
       "dtype: object"
      ]
     },
<<<<<<< HEAD
     "execution_count": 40,
=======
     "execution_count": 109,
>>>>>>> c8c8aa3db8f860825695ebb97a1367d903fc4ccc
     "metadata": {},
     "output_type": "execute_result"
    }
   ],
   "source": [
    "df_solar_filt.dtypes[df_solar_filt.dtypes == \"object\"]"
   ]
  },
  {
   "cell_type": "code",
<<<<<<< HEAD
   "execution_count": 41,
=======
   "execution_count": 110,
>>>>>>> c8c8aa3db8f860825695ebb97a1367d903fc4ccc
   "metadata": {},
   "outputs": [
    {
     "data": {
      "text/plain": [
       "Longitud\n",
       "-3.74573026512817      51\n",
       "-3.621281890570370     51\n",
       "-3.6662090478322400    51\n",
       "-3.6691167784691700    51\n",
       "-3.6709293330780200    51\n",
       "                       ..\n",
       "-3.6569793922460585     3\n",
       "-3.6731747821526333     3\n",
       "-3.6467931482127414     3\n",
       "-3.6630476297262975     2\n",
       "-3.597762173364828      2\n",
       "Name: count, Length: 126, dtype: int64"
      ]
     },
<<<<<<< HEAD
     "execution_count": 41,
=======
     "execution_count": 110,
>>>>>>> c8c8aa3db8f860825695ebb97a1367d903fc4ccc
     "metadata": {},
     "output_type": "execute_result"
    }
   ],
   "source": [
    "# esto no hace falta\n",
    "df_solar_filt['Longitud'].value_counts()"
   ]
  },
  {
   "cell_type": "code",
<<<<<<< HEAD
   "execution_count": 45,
=======
   "execution_count": 111,
>>>>>>> c8c8aa3db8f860825695ebb97a1367d903fc4ccc
   "metadata": {},
   "outputs": [
    {
     "data": {
      "text/plain": [
       "CENTRO\n",
       "MADRID EMPRENDE                                       51\n",
       "CENTRO DE ACOGIDA MUNICIPAL PUERTA ABIERTA            51\n",
       "CC EDUARDO CHILLIDA Y BIBLIOTECA MIGUEL DELIBES       51\n",
       "EI SABINA (MORATALAZ)                                 51\n",
       "CMM/CENTRO DIA/CSS LA GUINDALERA                      51\n",
       "                                                      ..\n",
       "CDM WILFRED AGBONAVBARE                                3\n",
       "CDM ENTREVIAS                                          3\n",
       "BASE SAMUR 4                                           3\n",
       "CMM SAN DIEGO                                          2\n",
       "CSS CENTRO DE DÍA Y ALZHEIMER ENSANCHE DE VALLECAS     2\n",
       "Name: count, Length: 137, dtype: int64"
      ]
     },
<<<<<<< HEAD
     "execution_count": 45,
=======
     "execution_count": 111,
>>>>>>> c8c8aa3db8f860825695ebb97a1367d903fc4ccc
     "metadata": {},
     "output_type": "execute_result"
    }
   ],
   "source": [
    "df_solar_filt[\"CENTRO\"].value_counts()"
   ]
  },
  {
   "cell_type": "code",
<<<<<<< HEAD
   "execution_count": 46,
=======
   "execution_count": 112,
>>>>>>> c8c8aa3db8f860825695ebb97a1367d903fc4ccc
   "metadata": {},
   "outputs": [
    {
     "data": {
      "text/plain": [
       "USO\n",
       "cultural          1028\n",
       "social             865\n",
       "deportivo          829\n",
       "educativo          784\n",
       "administrativo     542\n",
       "mixto              291\n",
       "seguridad          266\n",
       "medioambiental     204\n",
       "sanitario          116\n",
       "almacén             39\n",
       "deportivo            9\n",
       "Name: count, dtype: int64"
      ]
     },
<<<<<<< HEAD
     "execution_count": 46,
     "metadata": {},
     "output_type": "execute_result"
    }
   ],
   "source": [
    "df_solar_filt[\"USO\"].value_counts()"
   ]
  },
  {
   "cell_type": "code",
   "execution_count": 48,
   "metadata": {},
   "outputs": [
    {
     "data": {
      "text/plain": [
       "CÁLCULO\n",
       "Estimación    3498\n",
       "Medición      1475\n",
       "Name: count, dtype: int64"
      ]
     },
     "execution_count": 48,
     "metadata": {},
     "output_type": "execute_result"
    }
   ],
   "source": [
    "df_solar_filt[\"CÁLCULO\"].value_counts()"
   ]
  },
  {
   "cell_type": "code",
   "execution_count": 49,
   "metadata": {},
   "outputs": [],
   "source": [
    "columnas_drop=[\"CÁLCULO\", \"AÑO\", \"MES\", \"CENTRO\", \"USO\"]"
   ]
  },
  {
   "cell_type": "code",
   "execution_count": 51,
   "metadata": {},
   "outputs": [
    {
     "name": "stdout",
     "output_type": "stream",
     "text": [
      "Tamaño del tablón inicia:  (4973, 11)\n",
      "Tamaño del tablón nuevo:  (4973, 6)\n"
     ]
    }
   ],
   "source": [
    "df_solar_filt2 = df_solar_filt.drop(columns=columnas_drop)\n",
    "print(\"Tamaño del tablón inicia: \", df_solar_filt.shape)\n",
    "print(\"Tamaño del tablón nuevo: \", df_solar_filt2.shape)"
   ]
  },
  {
   "cell_type": "code",
   "execution_count": 52,
   "metadata": {},
   "outputs": [
    {
     "data": {
      "text/plain": [
       "float64    5\n",
       "object     1\n",
       "Name: count, dtype: int64"
      ]
     },
     "execution_count": 52,
=======
     "execution_count": 112,
>>>>>>> c8c8aa3db8f860825695ebb97a1367d903fc4ccc
     "metadata": {},
     "output_type": "execute_result"
    }
   ],
   "source": [
    "df_solar_filt2.dtypes.value_counts()"
   ]
  },
  {
   "attachments": {},
   "cell_type": "markdown",
   "metadata": {},
   "source": [
    "### Reducción de variables\n",
    "Importancia de variables"
   ]
  },
  {
   "cell_type": "code",
   "execution_count": 113,
   "metadata": {},
   "outputs": [
    {
     "name": "stdout",
     "output_type": "stream",
     "text": [
      "Cumulative_solar_power\n",
      "['date', 'kWh electricity/day', 'Gas/day']\n"
     ]
    }
   ],
   "source": [
    "# generar la lista de features y la variable target\n",
    "target = 'Cumulative_solar_power'\n",
    "features = [x for x in df_solar_filt.columns if x != target]\n",
    "\n",
    "print(target)\n",
    "print(features)"
   ]
  },
  {
   "cell_type": "code",
   "execution_count": 114,
   "metadata": {},
   "outputs": [
    {
     "data": {
      "text/plain": [
       "0           0.1\n",
       "1          10.2\n",
       "2          20.2\n",
       "3          29.6\n",
       "4          34.2\n",
       "         ...   \n",
       "3299    36445.0\n",
       "3300    36453.0\n",
       "3301    36461.0\n",
       "3302    36466.0\n",
       "3303    36469.0\n",
       "Name: Cumulative_solar_power, Length: 3304, dtype: float64"
      ]
     },
     "execution_count": 114,
     "metadata": {},
     "output_type": "execute_result"
    }
   ],
   "source": [
    "df_solar_filt2[target]"
   ]
  },
  {
   "cell_type": "code",
   "execution_count": 115,
   "metadata": {},
   "outputs": [
    {
     "ename": "KeyError",
     "evalue": "\"['date'] not in index\"",
     "output_type": "error",
     "traceback": [
      "\u001b[1;31m---------------------------------------------------------------------------\u001b[0m",
      "\u001b[1;31mKeyError\u001b[0m                                  Traceback (most recent call last)",
      "Cell \u001b[1;32mIn[115], line 8\u001b[0m\n\u001b[0;32m      5\u001b[0m arbol_importancia \u001b[39m=\u001b[39m DecisionTreeRegressor(max_depth\u001b[39m=\u001b[39m\u001b[39m1000\u001b[39m, random_state\u001b[39m=\u001b[39m\u001b[39m42\u001b[39m)\n\u001b[0;32m      7\u001b[0m \u001b[39m# Entrenar un árbol con todo el conjunto de datos\u001b[39;00m\n\u001b[1;32m----> 8\u001b[0m arbol_importancia\u001b[39m.\u001b[39mfit(X\u001b[39m=\u001b[39mdf_solar_filt2[features], y\u001b[39m=\u001b[39mdf_solar_filt2[target])\n",
      "File \u001b[1;32m~\\AppData\\Local\\Packages\\PythonSoftwareFoundation.Python.3.10_qbz5n2kfra8p0\\LocalCache\\local-packages\\Python310\\site-packages\\pandas\\core\\frame.py:3767\u001b[0m, in \u001b[0;36mDataFrame.__getitem__\u001b[1;34m(self, key)\u001b[0m\n\u001b[0;32m   3765\u001b[0m     \u001b[39mif\u001b[39;00m is_iterator(key):\n\u001b[0;32m   3766\u001b[0m         key \u001b[39m=\u001b[39m \u001b[39mlist\u001b[39m(key)\n\u001b[1;32m-> 3767\u001b[0m     indexer \u001b[39m=\u001b[39m \u001b[39mself\u001b[39;49m\u001b[39m.\u001b[39;49mcolumns\u001b[39m.\u001b[39;49m_get_indexer_strict(key, \u001b[39m\"\u001b[39;49m\u001b[39mcolumns\u001b[39;49m\u001b[39m\"\u001b[39;49m)[\u001b[39m1\u001b[39m]\n\u001b[0;32m   3769\u001b[0m \u001b[39m# take() does not accept boolean indexers\u001b[39;00m\n\u001b[0;32m   3770\u001b[0m \u001b[39mif\u001b[39;00m \u001b[39mgetattr\u001b[39m(indexer, \u001b[39m\"\u001b[39m\u001b[39mdtype\u001b[39m\u001b[39m\"\u001b[39m, \u001b[39mNone\u001b[39;00m) \u001b[39m==\u001b[39m \u001b[39mbool\u001b[39m:\n",
      "File \u001b[1;32m~\\AppData\\Local\\Packages\\PythonSoftwareFoundation.Python.3.10_qbz5n2kfra8p0\\LocalCache\\local-packages\\Python310\\site-packages\\pandas\\core\\indexes\\base.py:5876\u001b[0m, in \u001b[0;36mIndex._get_indexer_strict\u001b[1;34m(self, key, axis_name)\u001b[0m\n\u001b[0;32m   5873\u001b[0m \u001b[39melse\u001b[39;00m:\n\u001b[0;32m   5874\u001b[0m     keyarr, indexer, new_indexer \u001b[39m=\u001b[39m \u001b[39mself\u001b[39m\u001b[39m.\u001b[39m_reindex_non_unique(keyarr)\n\u001b[1;32m-> 5876\u001b[0m \u001b[39mself\u001b[39;49m\u001b[39m.\u001b[39;49m_raise_if_missing(keyarr, indexer, axis_name)\n\u001b[0;32m   5878\u001b[0m keyarr \u001b[39m=\u001b[39m \u001b[39mself\u001b[39m\u001b[39m.\u001b[39mtake(indexer)\n\u001b[0;32m   5879\u001b[0m \u001b[39mif\u001b[39;00m \u001b[39misinstance\u001b[39m(key, Index):\n\u001b[0;32m   5880\u001b[0m     \u001b[39m# GH 42790 - Preserve name from an Index\u001b[39;00m\n",
      "File \u001b[1;32m~\\AppData\\Local\\Packages\\PythonSoftwareFoundation.Python.3.10_qbz5n2kfra8p0\\LocalCache\\local-packages\\Python310\\site-packages\\pandas\\core\\indexes\\base.py:5938\u001b[0m, in \u001b[0;36mIndex._raise_if_missing\u001b[1;34m(self, key, indexer, axis_name)\u001b[0m\n\u001b[0;32m   5935\u001b[0m     \u001b[39mraise\u001b[39;00m \u001b[39mKeyError\u001b[39;00m(\u001b[39mf\u001b[39m\u001b[39m\"\u001b[39m\u001b[39mNone of [\u001b[39m\u001b[39m{\u001b[39;00mkey\u001b[39m}\u001b[39;00m\u001b[39m] are in the [\u001b[39m\u001b[39m{\u001b[39;00maxis_name\u001b[39m}\u001b[39;00m\u001b[39m]\u001b[39m\u001b[39m\"\u001b[39m)\n\u001b[0;32m   5937\u001b[0m not_found \u001b[39m=\u001b[39m \u001b[39mlist\u001b[39m(ensure_index(key)[missing_mask\u001b[39m.\u001b[39mnonzero()[\u001b[39m0\u001b[39m]]\u001b[39m.\u001b[39munique())\n\u001b[1;32m-> 5938\u001b[0m \u001b[39mraise\u001b[39;00m \u001b[39mKeyError\u001b[39;00m(\u001b[39mf\u001b[39m\u001b[39m\"\u001b[39m\u001b[39m{\u001b[39;00mnot_found\u001b[39m}\u001b[39;00m\u001b[39m not in index\u001b[39m\u001b[39m\"\u001b[39m)\n",
      "\u001b[1;31mKeyError\u001b[0m: \"['date'] not in index\""
     ]
    }
   ],
   "source": [
    "# Importar el algoritmo de árboles de decisión\n",
    "from sklearn.tree import DecisionTreeRegressor\n",
    "\n",
    "# Asignar el algortimo e indicar la profundidad máxima del árbol (con un número rotandamente grande para sobreajustar)\n",
    "arbol_importancia = DecisionTreeRegressor(max_depth=1000, random_state=42)\n",
    "\n",
    "# Entrenar un árbol con todo el conjunto de datos\n",
    "arbol_importancia.fit(X=df_solar_filt2[features], y=df_solar_filt2[target])"
   ]
  },
  {
   "cell_type": "code",
   "execution_count": 116,
   "metadata": {},
   "outputs": [
    {
     "ename": "KeyError",
     "evalue": "\"['date'] not in index\"",
     "output_type": "error",
     "traceback": [
      "\u001b[1;31m---------------------------------------------------------------------------\u001b[0m",
      "\u001b[1;31mKeyError\u001b[0m                                  Traceback (most recent call last)",
      "Cell \u001b[1;32mIn[116], line 2\u001b[0m\n\u001b[0;32m      1\u001b[0m \u001b[39m# Comprobamos que se obtiene un R^2 muy alto. Lo desesable es que sea 1.\u001b[39;00m\n\u001b[1;32m----> 2\u001b[0m y_pred_arbol \u001b[39m=\u001b[39m arbol_importancia\u001b[39m.\u001b[39mpredict(X\u001b[39m=\u001b[39mdf_solar_filt2[features])\n\u001b[0;32m      4\u001b[0m \u001b[39mfrom\u001b[39;00m \u001b[39msklearn\u001b[39;00m\u001b[39m.\u001b[39;00m\u001b[39mmetrics\u001b[39;00m \u001b[39mimport\u001b[39;00m mean_absolute_error\n\u001b[0;32m      5\u001b[0m \u001b[39mfrom\u001b[39;00m \u001b[39msklearn\u001b[39;00m\u001b[39m.\u001b[39;00m\u001b[39mmetrics\u001b[39;00m \u001b[39mimport\u001b[39;00m mean_absolute_percentage_error\n",
      "File \u001b[1;32m~\\AppData\\Local\\Packages\\PythonSoftwareFoundation.Python.3.10_qbz5n2kfra8p0\\LocalCache\\local-packages\\Python310\\site-packages\\pandas\\core\\frame.py:3767\u001b[0m, in \u001b[0;36mDataFrame.__getitem__\u001b[1;34m(self, key)\u001b[0m\n\u001b[0;32m   3765\u001b[0m     \u001b[39mif\u001b[39;00m is_iterator(key):\n\u001b[0;32m   3766\u001b[0m         key \u001b[39m=\u001b[39m \u001b[39mlist\u001b[39m(key)\n\u001b[1;32m-> 3767\u001b[0m     indexer \u001b[39m=\u001b[39m \u001b[39mself\u001b[39;49m\u001b[39m.\u001b[39;49mcolumns\u001b[39m.\u001b[39;49m_get_indexer_strict(key, \u001b[39m\"\u001b[39;49m\u001b[39mcolumns\u001b[39;49m\u001b[39m\"\u001b[39;49m)[\u001b[39m1\u001b[39m]\n\u001b[0;32m   3769\u001b[0m \u001b[39m# take() does not accept boolean indexers\u001b[39;00m\n\u001b[0;32m   3770\u001b[0m \u001b[39mif\u001b[39;00m \u001b[39mgetattr\u001b[39m(indexer, \u001b[39m\"\u001b[39m\u001b[39mdtype\u001b[39m\u001b[39m\"\u001b[39m, \u001b[39mNone\u001b[39;00m) \u001b[39m==\u001b[39m \u001b[39mbool\u001b[39m:\n",
      "File \u001b[1;32m~\\AppData\\Local\\Packages\\PythonSoftwareFoundation.Python.3.10_qbz5n2kfra8p0\\LocalCache\\local-packages\\Python310\\site-packages\\pandas\\core\\indexes\\base.py:5876\u001b[0m, in \u001b[0;36mIndex._get_indexer_strict\u001b[1;34m(self, key, axis_name)\u001b[0m\n\u001b[0;32m   5873\u001b[0m \u001b[39melse\u001b[39;00m:\n\u001b[0;32m   5874\u001b[0m     keyarr, indexer, new_indexer \u001b[39m=\u001b[39m \u001b[39mself\u001b[39m\u001b[39m.\u001b[39m_reindex_non_unique(keyarr)\n\u001b[1;32m-> 5876\u001b[0m \u001b[39mself\u001b[39;49m\u001b[39m.\u001b[39;49m_raise_if_missing(keyarr, indexer, axis_name)\n\u001b[0;32m   5878\u001b[0m keyarr \u001b[39m=\u001b[39m \u001b[39mself\u001b[39m\u001b[39m.\u001b[39mtake(indexer)\n\u001b[0;32m   5879\u001b[0m \u001b[39mif\u001b[39;00m \u001b[39misinstance\u001b[39m(key, Index):\n\u001b[0;32m   5880\u001b[0m     \u001b[39m# GH 42790 - Preserve name from an Index\u001b[39;00m\n",
      "File \u001b[1;32m~\\AppData\\Local\\Packages\\PythonSoftwareFoundation.Python.3.10_qbz5n2kfra8p0\\LocalCache\\local-packages\\Python310\\site-packages\\pandas\\core\\indexes\\base.py:5938\u001b[0m, in \u001b[0;36mIndex._raise_if_missing\u001b[1;34m(self, key, indexer, axis_name)\u001b[0m\n\u001b[0;32m   5935\u001b[0m     \u001b[39mraise\u001b[39;00m \u001b[39mKeyError\u001b[39;00m(\u001b[39mf\u001b[39m\u001b[39m\"\u001b[39m\u001b[39mNone of [\u001b[39m\u001b[39m{\u001b[39;00mkey\u001b[39m}\u001b[39;00m\u001b[39m] are in the [\u001b[39m\u001b[39m{\u001b[39;00maxis_name\u001b[39m}\u001b[39;00m\u001b[39m]\u001b[39m\u001b[39m\"\u001b[39m)\n\u001b[0;32m   5937\u001b[0m not_found \u001b[39m=\u001b[39m \u001b[39mlist\u001b[39m(ensure_index(key)[missing_mask\u001b[39m.\u001b[39mnonzero()[\u001b[39m0\u001b[39m]]\u001b[39m.\u001b[39munique())\n\u001b[1;32m-> 5938\u001b[0m \u001b[39mraise\u001b[39;00m \u001b[39mKeyError\u001b[39;00m(\u001b[39mf\u001b[39m\u001b[39m\"\u001b[39m\u001b[39m{\u001b[39;00mnot_found\u001b[39m}\u001b[39;00m\u001b[39m not in index\u001b[39m\u001b[39m\"\u001b[39m)\n",
      "\u001b[1;31mKeyError\u001b[0m: \"['date'] not in index\""
     ]
    }
   ],
   "source": [
    "# Comprobamos que se obtiene un R^2 muy alto. Lo desesable es que sea 1.\n",
    "y_pred_arbol = arbol_importancia.predict(X=df_solar_filt2[features])\n",
    "\n",
    "from sklearn.metrics import mean_absolute_error\n",
    "from sklearn.metrics import mean_absolute_percentage_error\n",
    "from sklearn.metrics import mean_squared_error\n",
    "from sklearn.metrics import r2_score\n",
    "\n",
    "# Métricas para evaluar la calidad del modelo\n",
    "print('Mean Absolute Error:', mean_absolute_error(df_solar_filt2[target], y_pred_arbol))\n",
    "print('Mean Absolute Percentage Error:', mean_absolute_percentage_error(df_solar_filt2[target], y_pred_arbol)*100)\n",
    "print('Mean Squared Error:', mean_squared_error(df_solar_filt2[target], y_pred_arbol))\n",
    "print('Root Mean Squared Error:', np.sqrt(mean_squared_error(df_solar_filt2[target], y_pred_arbol)))\n",
    "print('R^2 coefficient of determination:', r2_score(df_solar_filt2[target], y_pred_arbol))"
   ]
  },
  {
   "cell_type": "code",
   "execution_count": 117,
   "metadata": {},
   "outputs": [
    {
     "ename": "NotFittedError",
     "evalue": "This DecisionTreeRegressor instance is not fitted yet. Call 'fit' with appropriate arguments before using this estimator.",
     "output_type": "error",
     "traceback": [
      "\u001b[1;31m---------------------------------------------------------------------------\u001b[0m",
      "\u001b[1;31mNotFittedError\u001b[0m                            Traceback (most recent call last)",
      "Cell \u001b[1;32mIn[117], line 2\u001b[0m\n\u001b[0;32m      1\u001b[0m \u001b[39m# Importancias de cada variable en el árbol ajustado (Gini importance)\u001b[39;00m\n\u001b[1;32m----> 2\u001b[0m arbol_importancia\u001b[39m.\u001b[39;49mfeature_importances_\n",
      "File \u001b[1;32m~\\AppData\\Local\\Packages\\PythonSoftwareFoundation.Python.3.10_qbz5n2kfra8p0\\LocalCache\\local-packages\\Python310\\site-packages\\sklearn\\tree\\_classes.py:585\u001b[0m, in \u001b[0;36mBaseDecisionTree.feature_importances_\u001b[1;34m(self)\u001b[0m\n\u001b[0;32m    567\u001b[0m \u001b[39m@property\u001b[39m\n\u001b[0;32m    568\u001b[0m \u001b[39mdef\u001b[39;00m \u001b[39mfeature_importances_\u001b[39m(\u001b[39mself\u001b[39m):\n\u001b[0;32m    569\u001b[0m \u001b[39m    \u001b[39m\u001b[39m\"\"\"Return the feature importances.\u001b[39;00m\n\u001b[0;32m    570\u001b[0m \n\u001b[0;32m    571\u001b[0m \u001b[39m    The importance of a feature is computed as the (normalized) total\u001b[39;00m\n\u001b[1;32m   (...)\u001b[0m\n\u001b[0;32m    583\u001b[0m \u001b[39m        (Gini importance).\u001b[39;00m\n\u001b[0;32m    584\u001b[0m \u001b[39m    \"\"\"\u001b[39;00m\n\u001b[1;32m--> 585\u001b[0m     check_is_fitted(\u001b[39mself\u001b[39;49m)\n\u001b[0;32m    587\u001b[0m     \u001b[39mreturn\u001b[39;00m \u001b[39mself\u001b[39m\u001b[39m.\u001b[39mtree_\u001b[39m.\u001b[39mcompute_feature_importances()\n",
      "File \u001b[1;32m~\\AppData\\Local\\Packages\\PythonSoftwareFoundation.Python.3.10_qbz5n2kfra8p0\\LocalCache\\local-packages\\Python310\\site-packages\\sklearn\\utils\\validation.py:1390\u001b[0m, in \u001b[0;36mcheck_is_fitted\u001b[1;34m(estimator, attributes, msg, all_or_any)\u001b[0m\n\u001b[0;32m   1385\u001b[0m     fitted \u001b[39m=\u001b[39m [\n\u001b[0;32m   1386\u001b[0m         v \u001b[39mfor\u001b[39;00m v \u001b[39min\u001b[39;00m \u001b[39mvars\u001b[39m(estimator) \u001b[39mif\u001b[39;00m v\u001b[39m.\u001b[39mendswith(\u001b[39m\"\u001b[39m\u001b[39m_\u001b[39m\u001b[39m\"\u001b[39m) \u001b[39mand\u001b[39;00m \u001b[39mnot\u001b[39;00m v\u001b[39m.\u001b[39mstartswith(\u001b[39m\"\u001b[39m\u001b[39m__\u001b[39m\u001b[39m\"\u001b[39m)\n\u001b[0;32m   1387\u001b[0m     ]\n\u001b[0;32m   1389\u001b[0m \u001b[39mif\u001b[39;00m \u001b[39mnot\u001b[39;00m fitted:\n\u001b[1;32m-> 1390\u001b[0m     \u001b[39mraise\u001b[39;00m NotFittedError(msg \u001b[39m%\u001b[39m {\u001b[39m\"\u001b[39m\u001b[39mname\u001b[39m\u001b[39m\"\u001b[39m: \u001b[39mtype\u001b[39m(estimator)\u001b[39m.\u001b[39m\u001b[39m__name__\u001b[39m})\n",
      "\u001b[1;31mNotFittedError\u001b[0m: This DecisionTreeRegressor instance is not fitted yet. Call 'fit' with appropriate arguments before using this estimator."
     ]
    }
   ],
   "source": [
    "# Importancias de cada variable en el árbol ajustado (Gini importance)\n",
    "arbol_importancia.feature_importances_"
   ]
  },
  {
   "cell_type": "code",
   "execution_count": 118,
   "metadata": {},
   "outputs": [
    {
     "ename": "NotFittedError",
     "evalue": "This DecisionTreeRegressor instance is not fitted yet. Call 'fit' with appropriate arguments before using this estimator.",
     "output_type": "error",
     "traceback": [
      "\u001b[1;31m---------------------------------------------------------------------------\u001b[0m",
      "\u001b[1;31mNotFittedError\u001b[0m                            Traceback (most recent call last)",
      "Cell \u001b[1;32mIn[118], line 2\u001b[0m\n\u001b[0;32m      1\u001b[0m \u001b[39m# Creamos un DataFrame con los datos de importancia\u001b[39;00m\n\u001b[1;32m----> 2\u001b[0m importancia \u001b[39m=\u001b[39m pd\u001b[39m.\u001b[39mDataFrame(arbol_importancia\u001b[39m.\u001b[39;49mfeature_importances_, index\u001b[39m=\u001b[39mfeatures, columns\u001b[39m=\u001b[39m[\u001b[39m\"\u001b[39m\u001b[39mImportancia\u001b[39m\u001b[39m\"\u001b[39m])\n\u001b[0;32m      4\u001b[0m \u001b[39m# Ordenamos los datos\u001b[39;00m\n\u001b[0;32m      5\u001b[0m importancia\u001b[39m.\u001b[39msort_values(by\u001b[39m=\u001b[39mimportancia\u001b[39m.\u001b[39mcolumns[\u001b[39m0\u001b[39m], ascending\u001b[39m=\u001b[39m\u001b[39mFalse\u001b[39;00m, inplace\u001b[39m=\u001b[39m\u001b[39mTrue\u001b[39;00m)\n",
      "File \u001b[1;32m~\\AppData\\Local\\Packages\\PythonSoftwareFoundation.Python.3.10_qbz5n2kfra8p0\\LocalCache\\local-packages\\Python310\\site-packages\\sklearn\\tree\\_classes.py:585\u001b[0m, in \u001b[0;36mBaseDecisionTree.feature_importances_\u001b[1;34m(self)\u001b[0m\n\u001b[0;32m    567\u001b[0m \u001b[39m@property\u001b[39m\n\u001b[0;32m    568\u001b[0m \u001b[39mdef\u001b[39;00m \u001b[39mfeature_importances_\u001b[39m(\u001b[39mself\u001b[39m):\n\u001b[0;32m    569\u001b[0m \u001b[39m    \u001b[39m\u001b[39m\"\"\"Return the feature importances.\u001b[39;00m\n\u001b[0;32m    570\u001b[0m \n\u001b[0;32m    571\u001b[0m \u001b[39m    The importance of a feature is computed as the (normalized) total\u001b[39;00m\n\u001b[1;32m   (...)\u001b[0m\n\u001b[0;32m    583\u001b[0m \u001b[39m        (Gini importance).\u001b[39;00m\n\u001b[0;32m    584\u001b[0m \u001b[39m    \"\"\"\u001b[39;00m\n\u001b[1;32m--> 585\u001b[0m     check_is_fitted(\u001b[39mself\u001b[39;49m)\n\u001b[0;32m    587\u001b[0m     \u001b[39mreturn\u001b[39;00m \u001b[39mself\u001b[39m\u001b[39m.\u001b[39mtree_\u001b[39m.\u001b[39mcompute_feature_importances()\n",
      "File \u001b[1;32m~\\AppData\\Local\\Packages\\PythonSoftwareFoundation.Python.3.10_qbz5n2kfra8p0\\LocalCache\\local-packages\\Python310\\site-packages\\sklearn\\utils\\validation.py:1390\u001b[0m, in \u001b[0;36mcheck_is_fitted\u001b[1;34m(estimator, attributes, msg, all_or_any)\u001b[0m\n\u001b[0;32m   1385\u001b[0m     fitted \u001b[39m=\u001b[39m [\n\u001b[0;32m   1386\u001b[0m         v \u001b[39mfor\u001b[39;00m v \u001b[39min\u001b[39;00m \u001b[39mvars\u001b[39m(estimator) \u001b[39mif\u001b[39;00m v\u001b[39m.\u001b[39mendswith(\u001b[39m\"\u001b[39m\u001b[39m_\u001b[39m\u001b[39m\"\u001b[39m) \u001b[39mand\u001b[39;00m \u001b[39mnot\u001b[39;00m v\u001b[39m.\u001b[39mstartswith(\u001b[39m\"\u001b[39m\u001b[39m__\u001b[39m\u001b[39m\"\u001b[39m)\n\u001b[0;32m   1387\u001b[0m     ]\n\u001b[0;32m   1389\u001b[0m \u001b[39mif\u001b[39;00m \u001b[39mnot\u001b[39;00m fitted:\n\u001b[1;32m-> 1390\u001b[0m     \u001b[39mraise\u001b[39;00m NotFittedError(msg \u001b[39m%\u001b[39m {\u001b[39m\"\u001b[39m\u001b[39mname\u001b[39m\u001b[39m\"\u001b[39m: \u001b[39mtype\u001b[39m(estimator)\u001b[39m.\u001b[39m\u001b[39m__name__\u001b[39m})\n",
      "\u001b[1;31mNotFittedError\u001b[0m: This DecisionTreeRegressor instance is not fitted yet. Call 'fit' with appropriate arguments before using this estimator."
     ]
    }
   ],
   "source": [
    "# Creamos un DataFrame con los datos de importancia\n",
    "importancia = pd.DataFrame(arbol_importancia.feature_importances_, index=features, columns=[\"Importancia\"])\n",
    "\n",
    "# Ordenamos los datos\n",
    "importancia.sort_values(by=importancia.columns[0], ascending=False, inplace=True)\n",
    "importancia"
   ]
  },
  {
   "cell_type": "code",
   "execution_count": 119,
   "metadata": {},
   "outputs": [
    {
     "ename": "NameError",
     "evalue": "name 'importancia' is not defined",
     "output_type": "error",
     "traceback": [
      "\u001b[1;31m---------------------------------------------------------------------------\u001b[0m",
      "\u001b[1;31mNameError\u001b[0m                                 Traceback (most recent call last)",
      "Cell \u001b[1;32mIn[119], line 1\u001b[0m\n\u001b[1;32m----> 1\u001b[0m importancia[\u001b[39m\"\u001b[39m\u001b[39mimp_acum\u001b[39m\u001b[39m\"\u001b[39m] \u001b[39m=\u001b[39m importancia[\u001b[39m\"\u001b[39m\u001b[39mImportancia\u001b[39m\u001b[39m\"\u001b[39m]\u001b[39m.\u001b[39mcumsum()\n\u001b[0;32m      2\u001b[0m importancia\n",
      "\u001b[1;31mNameError\u001b[0m: name 'importancia' is not defined"
     ]
    }
   ],
   "source": [
    "importancia[\"imp_acum\"] = importancia[\"Importancia\"].cumsum()\n",
    "importancia"
   ]
  },
  {
   "cell_type": "code",
   "execution_count": 120,
   "metadata": {},
   "outputs": [
    {
     "ename": "NameError",
     "evalue": "name 'importancia' is not defined",
     "output_type": "error",
     "traceback": [
      "\u001b[1;31m---------------------------------------------------------------------------\u001b[0m",
      "\u001b[1;31mNameError\u001b[0m                                 Traceback (most recent call last)",
      "Cell \u001b[1;32mIn[120], line 2\u001b[0m\n\u001b[0;32m      1\u001b[0m \u001b[39m# Conjunto de variables más importantes\u001b[39;00m\n\u001b[1;32m----> 2\u001b[0m importancia\u001b[39m.\u001b[39mloc[importancia[\u001b[39m'\u001b[39m\u001b[39mimp_acum\u001b[39m\u001b[39m'\u001b[39m]\u001b[39m<\u001b[39m\u001b[39m=\u001b[39m\u001b[39m0.85\u001b[39m]\n",
      "\u001b[1;31mNameError\u001b[0m: name 'importancia' is not defined"
     ]
    }
   ],
   "source": [
    "# Conjunto de variables más importantes\n",
    "importancia.loc[importancia['imp_acum']<=0.85]"
   ]
  },
  {
   "cell_type": "code",
   "execution_count": 121,
   "metadata": {},
   "outputs": [
    {
     "ename": "NameError",
     "evalue": "name 'importancia' is not defined",
     "output_type": "error",
     "traceback": [
      "\u001b[1;31m---------------------------------------------------------------------------\u001b[0m",
      "\u001b[1;31mNameError\u001b[0m                                 Traceback (most recent call last)",
      "Cell \u001b[1;32mIn[121], line 2\u001b[0m\n\u001b[0;32m      1\u001b[0m \u001b[39m# Definimos la lista de variables no tan importantes, cortando por el porcentaje de 85% de la información necesaria\u001b[39;00m\n\u001b[1;32m----> 2\u001b[0m variables \u001b[39m=\u001b[39m importancia\u001b[39m.\u001b[39mloc[importancia[\u001b[39m'\u001b[39m\u001b[39mimp_acum\u001b[39m\u001b[39m'\u001b[39m]\u001b[39m>\u001b[39m\u001b[39m0.85\u001b[39m]\u001b[39m.\u001b[39mindex\u001b[39m.\u001b[39mto_list()\n\u001b[0;32m      3\u001b[0m \u001b[39mprint\u001b[39m(variables)\n",
      "\u001b[1;31mNameError\u001b[0m: name 'importancia' is not defined"
     ]
    }
   ],
   "source": [
    "# Definimos la lista de variables no tan importantes, cortando por el porcentaje de 85% de la información necesaria\n",
    "variables = importancia.loc[importancia['imp_acum']>0.85].index.to_list()\n",
    "print(variables)"
   ]
  },
  {
   "cell_type": "code",
   "execution_count": 122,
   "metadata": {},
   "outputs": [
    {
     "ename": "NameError",
     "evalue": "name 'variables' is not defined",
     "output_type": "error",
     "traceback": [
      "\u001b[1;31m---------------------------------------------------------------------------\u001b[0m",
      "\u001b[1;31mNameError\u001b[0m                                 Traceback (most recent call last)",
      "Cell \u001b[1;32mIn[122], line 1\u001b[0m\n\u001b[1;32m----> 1\u001b[0m \u001b[39mprint\u001b[39m(\u001b[39mlen\u001b[39m(variables))\n",
      "\u001b[1;31mNameError\u001b[0m: name 'variables' is not defined"
     ]
    }
   ],
   "source": [
    "print(len(variables))"
   ]
  },
  {
   "cell_type": "code",
   "execution_count": null,
   "metadata": {},
   "outputs": [],
   "source": [
    "print(\"Variables iniciales: \", len(features))\n",
    "print(\"Variables no importantes (a eliminar): \", len(variables))"
   ]
  },
  {
   "attachments": {},
   "cell_type": "markdown",
   "metadata": {},
   "source": [
    "Ahora podemos filtrar el tablón para quedarnos solamente con las variables más importantes."
   ]
  },
  {
   "cell_type": "code",
   "execution_count": null,
   "metadata": {},
   "outputs": [],
   "source": [
    "df_solar_filt3= df_solar_filt2.drop(labels=variables, axis='columns')\n",
    "df_solar_filt3"
   ]
  }
 ],
 "metadata": {
  "kernelspec": {
   "display_name": "Python 3.10.11 64-bit (microsoft store)",
   "language": "python",
   "name": "python3"
  },
  "language_info": {
   "codemirror_mode": {
    "name": "ipython",
    "version": 3
   },
   "file_extension": ".py",
   "mimetype": "text/x-python",
   "name": "python",
   "nbconvert_exporter": "python",
   "pygments_lexer": "ipython3",
   "version": "3.10.11"
  },
  "orig_nbformat": 4,
  "vscode": {
   "interpreter": {
    "hash": "ad3b0cd1acfef684cc2fde4e9122a3101adc2b8d9568ead10c63363fe6c1f032"
   }
  }
 },
 "nbformat": 4,
 "nbformat_minor": 2
}
